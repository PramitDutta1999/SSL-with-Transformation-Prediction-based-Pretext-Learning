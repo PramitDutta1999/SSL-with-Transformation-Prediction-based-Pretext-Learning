{
  "nbformat": 4,
  "nbformat_minor": 0,
  "metadata": {
    "colab": {
      "provenance": []
    },
    "kernelspec": {
      "name": "python3",
      "display_name": "Python 3"
    },
    "language_info": {
      "name": "python"
    }
  },
  "cells": [
    {
      "cell_type": "code",
      "execution_count": null,
      "metadata": {
        "colab": {
          "base_uri": "https://localhost:8080/"
        },
        "id": "VEZstJPIbLyO",
        "outputId": "5a27444d-9c9e-4809-a28f-59d16c02cb5e"
      },
      "outputs": [
        {
          "output_type": "stream",
          "name": "stdout",
          "text": [
            "Mounted at /content/drive\n"
          ]
        }
      ],
      "source": [
        "from google.colab import drive\n",
        "drive.mount('/content/drive')"
      ]
    },
    {
      "cell_type": "code",
      "source": [
        "import zipfile\n",
        "import os\n",
        "\n",
        "zip_path = '/content/drive/MyDrive/oct.zip'  # Path\n",
        "extract_path = '/content/dataset_directory'\n",
        "\n",
        "# Unzip\n",
        "with zipfile.ZipFile(zip_path, 'r') as zip_ref:\n",
        "    zip_ref.extractall(extract_path)\n",
        "\n",
        "print(\"Dataset unzipped and ready in Colab.\")"
      ],
      "metadata": {
        "id": "jmZ6MtxLbnO1"
      },
      "execution_count": null,
      "outputs": []
    },
    {
      "cell_type": "code",
      "source": [
        "import os\n",
        "from PIL import Image\n",
        "import shutil"
      ],
      "metadata": {
        "id": "KVeL0kXEckju"
      },
      "execution_count": null,
      "outputs": []
    },
    {
      "cell_type": "code",
      "source": [
        "# Define paths\n",
        "base_dir = '/content/dataset_directory/OCT/Pretext Learning'\n",
        "original_dir = os.path.join(base_dir, 'original')\n",
        "rotate_90_dir = os.path.join(base_dir, 'rotated_90')\n",
        "rotate_180_dir = os.path.join(base_dir, 'rotated_180')\n",
        "flipped_horizontal_dir = os.path.join(base_dir, 'flipped_horizontal')\n",
        "\n",
        "\n",
        "os.makedirs(rotate_90_dir, exist_ok=True)\n",
        "os.makedirs(rotate_180_dir, exist_ok=True)\n",
        "os.makedirs(flipped_horizontal_dir, exist_ok=True)"
      ],
      "metadata": {
        "id": "Tfs9YtifcmH3"
      },
      "execution_count": null,
      "outputs": []
    },
    {
      "cell_type": "code",
      "source": [
        "# Original directory\n",
        "images = sorted(os.listdir(original_dir))"
      ],
      "metadata": {
        "id": "QaoHab7TdFdK"
      },
      "execution_count": null,
      "outputs": []
    },
    {
      "cell_type": "code",
      "source": [
        "# Process image\n",
        "for i, img_name in enumerate(images):\n",
        "    img_path = os.path.join(original_dir, img_name)\n",
        "    img = Image.open(img_path)\n",
        "\n",
        "    # Apply transformations\n",
        "    if i % 4 == 0:\n",
        "        # original\n",
        "        continue\n",
        "    elif i % 4 == 1:\n",
        "        # Rotate 90\n",
        "        transformed_img = img.rotate(90)\n",
        "        save_path = os.path.join(rotate_90_dir, img_name)\n",
        "    elif i % 4 == 2:\n",
        "        # Rotate 180\n",
        "        transformed_img = img.rotate(180)\n",
        "        save_path = os.path.join(rotate_180_dir, img_name)\n",
        "    else:\n",
        "        # Flip horizontal\n",
        "        transformed_img = img.transpose(Image.FLIP_LEFT_RIGHT)\n",
        "        save_path = os.path.join(flipped_horizontal_dir, img_name)\n",
        "\n",
        "    # Save transformed image\n",
        "    transformed_img.save(save_path)\n",
        "\n",
        "    # Delete the original image\n",
        "    os.remove(img_path)\n"
      ],
      "metadata": {
        "id": "baZZ3yY4dHw5"
      },
      "execution_count": null,
      "outputs": []
    },
    {
      "cell_type": "code",
      "source": [
        "import shutil\n",
        "shutil.make_archive('/content/transformed_oct', 'zip', '/content/dataset_directory/OCT')"
      ],
      "metadata": {
        "id": "XWOcfHc-d945"
      },
      "execution_count": null,
      "outputs": []
    },
    {
      "cell_type": "code",
      "source": [
        "shutil.move('/content/transformed_oct.zip', '/content/drive/MyDrive')"
      ],
      "metadata": {
        "colab": {
          "base_uri": "https://localhost:8080/",
          "height": 36
        },
        "id": "lBioclCPfcIH",
        "outputId": "ddd73849-2adb-47a0-dbe6-43c09055731b"
      },
      "execution_count": null,
      "outputs": [
        {
          "output_type": "execute_result",
          "data": {
            "text/plain": [
              "'/content/drive/MyDrive/transformed_oct.zip'"
            ],
            "application/vnd.google.colaboratory.intrinsic+json": {
              "type": "string"
            }
          },
          "metadata": {},
          "execution_count": 12
        }
      ]
    }
  ]
}